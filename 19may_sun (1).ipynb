{
  "nbformat": 4,
  "nbformat_minor": 0,
  "metadata": {
    "colab": {
      "name": "19may_sun.ipynb",
      "version": "0.3.2",
      "provenance": []
    },
    "kernelspec": {
      "name": "python3",
      "display_name": "Python 3"
    }
  },
  "cells": [
    {
      "cell_type": "code",
      "metadata": {
        "id": "XB_kO7_rahSe",
        "colab_type": "code",
        "colab": {}
      },
      "source": [
        "#dictionary \n",
        "a=input(\"Enter ur name:\")\n",
        "b=imput(\"What are ur preference:\")\n",
        "c=input(\"Enter ur religion:\")\n",
        "d=input(\"Enter ur gender:\")\n"
      ],
      "execution_count": 0,
      "outputs": []
    },
    {
      "cell_type": "code",
      "metadata": {
        "id": "NqUoHKQce5Ww",
        "colab_type": "code",
        "outputId": "2b87c4fb-2f2b-48c6-a676-087f6eb27f6c",
        "colab": {
          "base_uri": "https://localhost:8080/",
          "height": 102
        }
      },
      "source": [
        "a=[1,1,2,3,4,4,5]\n",
        "b=set(a)\n",
        "for x in b:\n",
        "  if x==3:\n",
        "    print(\"amazing india\")\n",
        "  elif x==5:\n",
        "    print(\"incredible india\")\n",
        "  else:\n",
        "    print(\"no such number\")"
      ],
      "execution_count": 0,
      "outputs": [
        {
          "output_type": "stream",
          "text": [
            "no such number\n",
            "no such number\n",
            "amazing india\n",
            "no such number\n",
            "incredible india\n"
          ],
          "name": "stdout"
        }
      ]
    },
    {
      "cell_type": "code",
      "metadata": {
        "id": "C9Hz7ARVLYRk",
        "colab_type": "code",
        "outputId": "968a0ea6-1b4d-4e74-b265-9be749a64999",
        "colab": {
          "base_uri": "https://localhost:8080/",
          "height": 68
        }
      },
      "source": [
        "number=[1,2,3,4,5,6,7]\n",
        "a=len(number)\n",
        "x=sum(number)\n",
        "y= x/7\n",
        "print(\"the mean of the given list is:\",y)\n",
        "z=(a+1)/2\n",
        "print(\"median:\",z)\n",
        "\n",
        "#mode\n",
        "\n",
        "\n"
      ],
      "execution_count": 0,
      "outputs": [
        {
          "output_type": "stream",
          "text": [
            "the mean of the given list is: 4.0\n",
            "median: 4.0\n",
            "{1, 2, 3, 4, 5, 6, 7}\n"
          ],
          "name": "stdout"
        }
      ]
    }
  ]
}