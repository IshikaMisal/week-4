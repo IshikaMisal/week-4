{
  "nbformat": 4,
  "nbformat_minor": 0,
  "metadata": {
    "colab": {
      "name": "week4_18_may_sat.ipynb",
      "version": "0.3.2",
      "provenance": []
    },
    "kernelspec": {
      "name": "python3",
      "display_name": "Python 3"
    }
  },
  "cells": [
    {
      "cell_type": "code",
      "metadata": {
        "id": "cd9AAAhgXakn",
        "colab_type": "code",
        "outputId": "ce2688e2-0968-4ed8-fd55-3fd6aa2dce54",
        "colab": {
          "base_uri": "https://localhost:8080/",
          "height": 51
        }
      },
      "source": [
        "a=[]\n",
        "b=[1,2,3,4,5,6,7,8,9,10,11,12,13,14,15,16,17,18,19,20,21,22,23,24,25,26,27,28,29,30,31]\n",
        "c=[1,2,3,4,5,6,7]\n",
        "d=[\"ishika\",\"komal\",\"pratiksha\",\"vedant\",\"nitin\",\"dipesh\",\"jovin\"]\n",
        "e=input(\"select a name from the given list: 'ishika','komal','pratiksha','vedant','nitin','dipesh','jovin':\")\n",
        "\n",
        "if e==\"ishika\":\n",
        "  z=a.append(0)\n",
        "  print(a)\n",
        "elif e==\"komal\":\n",
        "  z=a.append(1)\n",
        "  print(a)\n",
        "elif e==\"pratiksha\":\n",
        "  z=a.append(2)\n",
        "  print(a)\n",
        "elif e==\"vedant\":\n",
        "  z=a.append(3)\n",
        "  print(a)\n",
        "elif e==\"nitin\":\n",
        "  z=a.append(4)\n",
        "  print(a)\n",
        "elif e==\"dipesh\":\n",
        "  z=a.append(5)\n",
        "  print(a)\n",
        "elif e==\"jovin\":\n",
        "  z=a.append(6)\n",
        "  print(a)\n",
        "else:\n",
        "  print(\"invalid\")\n",
        " \n",
        "\n",
        "\n",
        "  "
      ],
      "execution_count": 0,
      "outputs": [
        {
          "output_type": "stream",
          "text": [
            "select a name from the given list: 'ishika','komal','pratiksha','vedant','nitin','dipesh','jovin':jovin\n",
            "[6]\n"
          ],
          "name": "stdout"
        }
      ]
    },
    {
      "cell_type": "code",
      "metadata": {
        "id": "QgaAN3ifx--I",
        "colab_type": "code",
        "outputId": "ecb2f808-7aad-4e78-f336-0f542acd1786",
        "colab": {
          "base_uri": "https://localhost:8080/",
          "height": 51
        }
      },
      "source": [
        "x={\"ram\":1 , \"laxman\":2}\n",
        "print(type(x))\n",
        "print(len(x))"
      ],
      "execution_count": 0,
      "outputs": [
        {
          "output_type": "stream",
          "text": [
            "<class 'dict'>\n",
            "2\n"
          ],
          "name": "stdout"
        }
      ]
    },
    {
      "cell_type": "code",
      "metadata": {
        "id": "XxfpkEzR2Ttn",
        "colab_type": "code",
        "outputId": "a0a1f1c2-3866-4072-c850-20cf39ccc0b4",
        "colab": {
          "base_uri": "https://localhost:8080/",
          "height": 34
        }
      },
      "source": [
        "x={\"ishika\":[{\"Employcode\":\"ss16ec020\" , \"DOB\":10312000 , \"gender\":\"female\"}]}\n",
        "x[\"ishika\"]\n",
        "x[\"ishika\"][0][\"gender\"]"
      ],
      "execution_count": 0,
      "outputs": [
        {
          "output_type": "execute_result",
          "data": {
            "text/plain": [
              "'female'"
            ]
          },
          "metadata": {
            "tags": []
          },
          "execution_count": 78
        }
      ]
    },
    {
      "cell_type": "code",
      "metadata": {
        "id": "pPoOkK1a8H01",
        "colab_type": "code",
        "outputId": "afb146da-c0ea-429f-ba7d-4c1d984c58f5",
        "colab": {
          "base_uri": "https://localhost:8080/",
          "height": 34
        }
      },
      "source": [
        "x={\"ram\":[{\"Employcode\":\"ss16ec021\" , \"DOB\":10312001 , \"gender\":\"male\"}] , \"laxman\":[{\"Employcode\":\"ss16ec022\" , \"DOB\":10312002 , \"gender\":\"male\"}] , \"chaman\":[{\"Employcode\":\"ss16ec022\" , \"DOB\":10312002 , \"gender\":\"female\"}]}\n",
        "len(x[\"ram\"][0])\n"
      ],
      "execution_count": 0,
      "outputs": [
        {
          "output_type": "execute_result",
          "data": {
            "text/plain": [
              "3"
            ]
          },
          "metadata": {
            "tags": []
          },
          "execution_count": 93
        }
      ]
    },
    {
      "cell_type": "code",
      "metadata": {
        "id": "OFqtT5KwAfyd",
        "colab_type": "code",
        "colab": {}
      },
      "source": [
        "x={\"ram\":[{\"Employcode\":\"ss16ec021\" , \"DOB\":10312001 , \"gender\":\"male\"}] , \"laxman\":[{\"Employcode\":\"ss16ec022\" , \"DOB\":10312002 , \"gender\":\"male\"}] , \"chaman\":[{\"Employcode\":\"ss16ec022\" , \"DOB\":10312002 , \"gender\":\"female\"}]}\n",
        "y=input(\"enter the name:\")\n",
        "z=input(\"select:\")\n",
        "x[y][0][z]"
      ],
      "execution_count": 0,
      "outputs": []
    },
    {
      "cell_type": "code",
      "metadata": {
        "id": "23frQ5s1BhW8",
        "colab_type": "code",
        "outputId": "f1125c0c-5594-47fb-e48b-0a640fc2fbf1",
        "colab": {
          "base_uri": "https://localhost:8080/",
          "height": 54
        }
      },
      "source": [
        "colours={\"vedant\":\"pink\" , \"jovin\":\"sky blue\" , \"nitin\": \"sky blue\" , \"ishika\": \" purple\" , \"komal\": \"navy blue\", \"dipesh\": \"oxf blue\"}\n",
        "colours[\"pratiksha\"] = \"red\"\n",
        "colours[\"mayur\"] = \"pink\"\n",
        "print(colours)"
      ],
      "execution_count": 0,
      "outputs": [
        {
          "output_type": "stream",
          "text": [
            "{'vedant': 'pink', 'jovin': 'sky blue', 'nitin': 'sky blue', 'ishika': ' purple', 'komal': 'navy blue', 'dipesh': 'oxf blue', 'pratiksha': 'red', 'mayur': 'pink'}\n"
          ],
          "name": "stdout"
        }
      ]
    },
    {
      "cell_type": "code",
      "metadata": {
        "id": "pYBHrnfTcM5t",
        "colab_type": "code",
        "colab": {}
      },
      "source": [
        "x=[[0,1],\"ved\", 1 , 2.0 ,\"jov\", [0,1,\"ved\"]]\n",
        "x[5][2]"
      ],
      "execution_count": 0,
      "outputs": []
    },
    {
      "cell_type": "code",
      "metadata": {
        "id": "v7Fpd-vndnNO",
        "colab_type": "code",
        "outputId": "1315026d-8784-4b77-8443-7b823e8c4297",
        "colab": {
          "base_uri": "https://localhost:8080/",
          "height": 34
        }
      },
      "source": [
        "y=[]\n",
        "x=[[0,1,2,3,4,\"ved\",[0,1,2]]] , [1,2,[\"ved\",\"shu\",\"prat\",\"jov\"],5,7.0], [1,2,3,4,5,6,7,8,9,10] , [\"ram\",[1,0,[0,1,2],4]]\n",
        "z=y.append(x[2])\n",
        "print(y)"
      ],
      "execution_count": 0,
      "outputs": [
        {
          "output_type": "stream",
          "text": [
            "[[1, 2, 3, 4, 5, 6, 7, 8, 9, 10]]\n"
          ],
          "name": "stdout"
        }
      ]
    },
    {
      "cell_type": "code",
      "metadata": {
        "id": "o2FHuTK5GqFe",
        "colab_type": "code",
        "outputId": "44f714c1-8646-4f5c-ee18-0fefc6a5df1b",
        "colab": {
          "base_uri": "https://localhost:8080/",
          "height": 34
        }
      },
      "source": [
        "x={\"ram\":[{\"Employcode\":\"ss16ec021\" , \"DOB\":10312001 , \"gender\":\"male\"}] , \"laxman\":[{\"Employcode\":\"ss16ec022\" , \"DOB\":10312002 , \"gender\":\"male\"}] , \"chaman\":[{\"Employcode\":\"ss16ec022\" , \"DOB\":10312002 , \"gender\":\"female\"}]}\n",
        "x[\"ravan\"]=[{\"Employcode\":\"ss16ec023\" , \"DOB\":10312003 , \"gender\":\"male\"}]\n",
        "'''print(x)\n",
        "def addname():\n",
        "  name=input(\"Enter name:\")\n",
        "  EmployID=input(\"Employcode:\")\n",
        "  z=input(\"DOB:\")\n",
        "  f=input(\"gender:\")\n",
        "  x[name]=[{\"Employcode\":EmployID , \"DOB\":z , \"gender\":f}]\n",
        "\n",
        " \n",
        "addname() \n",
        "print(x)'''\n",
        "del x[\"ravan\"]\n",
        "del x[\"ram\"]\n",
        "print(x)"
      ],
      "execution_count": 0,
      "outputs": [
        {
          "output_type": "stream",
          "text": [
            "{'laxman': [{'Employcode': 'ss16ec022', 'DOB': 10312002, 'gender': 'male'}], 'chaman': [{'Employcode': 'ss16ec022', 'DOB': 10312002, 'gender': 'female'}]}\n"
          ],
          "name": "stdout"
        }
      ]
    }
  ]
}