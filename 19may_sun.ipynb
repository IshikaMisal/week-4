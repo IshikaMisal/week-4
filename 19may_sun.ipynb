{
  "nbformat": 4,
  "nbformat_minor": 0,
  "metadata": {
    "colab": {
      "name": "19may_sun.ipynb",
      "version": "0.3.2",
      "provenance": [],
      "collapsed_sections": []
    },
    "kernelspec": {
      "name": "python3",
      "display_name": "Python 3"
    }
  },
  "cells": [
    {
      "cell_type": "markdown",
      "metadata": {
        "id": "icJoVImnk1jg",
        "colab_type": "text"
      },
      "source": [
        "**MEAN , MEDIAN**"
      ]
    },
    {
      "cell_type": "code",
      "metadata": {
        "id": "WwtnPdqLk14P",
        "colab_type": "code",
        "colab": {
          "base_uri": "https://localhost:8080/",
          "height": 51
        },
        "outputId": "7a571d29-a21a-4f28-bd92-07205f940030"
      },
      "source": [
        "x=[2,2,3,4,2]\n",
        "a =(x[0] + x[1] + x[2] +x[3]) / 4\n",
        "print(\"mean of the given input is:\" , a)\n",
        "b= x[2]\n",
        "print(\"the median of the given input is:\" , b)"
      ],
      "execution_count": 14,
      "outputs": [
        {
          "output_type": "stream",
          "text": [
            "mean of the given input is: 2.75\n",
            "the median of the given input is: 3\n"
          ],
          "name": "stdout"
        }
      ]
    }
  ]
}